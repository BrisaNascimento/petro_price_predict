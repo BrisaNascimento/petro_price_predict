{
 "cells": [
  {
   "cell_type": "markdown",
   "metadata": {},
   "source": [
    "### Data Engineering - Raw Data"
   ]
  },
  {
   "cell_type": "markdown",
   "metadata": {},
   "source": [
    "Ingestion type: Full Load\n",
    "\n",
    "Schedule Run: Daily on Briefer Cloud\n",
    "\n",
    "Source: Yahoo Finance, IPEA"
   ]
  },
  {
   "cell_type": "code",
   "execution_count": 1,
   "metadata": {},
   "outputs": [],
   "source": [
    "import pandas as pd\n",
    "import yfinance as yf\n",
    "import ipeadatapy as ip\n",
    "import os\n",
    "from datetime import datetime\n",
    "from io import StringIO"
   ]
  },
  {
   "cell_type": "code",
   "execution_count": null,
   "metadata": {},
   "outputs": [],
   "source": [
    "# Defining start and end date for data extraction\n",
    "\n",
    "start_date = datetime.strptime('2008-01-01', '%Y-%m-%d')\n",
    "end_date = datetime.today()"
   ]
  },
  {
   "cell_type": "code",
   "execution_count": null,
   "metadata": {},
   "outputs": [],
   "source": [
    "# Extract Data from Yahoo Finance\n",
    "\n",
    "def extract_yf_data(ticker: str, start_date, end_date) -> pd.DataFrame:\n",
    "    df = yf.download(ticker, start=start_date, end=end_date)\n",
    "    return df"
   ]
  },
  {
   "cell_type": "code",
   "execution_count": 1,
   "metadata": {},
   "outputs": [],
   "source": [
    "# PBR Target location: bronze/raw/yfinance/pbr/pbr.csv\n",
    "# BRENT Target location: bronze/raw/yfinance/brent/brent.csv\n",
    "# WTI Target location: bronze/raw/yfinance/wti/wti.csv\n",
    "# USD Target location: bronze/raw/yfinance/usd/usd.csv\n",
    "# PRODUCTION Target location: bronze/raw/ipea/production/production.csv"
   ]
  },
  {
   "cell_type": "code",
   "execution_count": null,
   "metadata": {},
   "outputs": [],
   "source": [
    "# Extract Petrobras Company Data\n",
    "pbr = extract_yf_data('PBR', start_date, end_date)\n",
    "\n",
    "# Extract Brent Crude Oil Data \n",
    "brent = extract_yf_data('BZ=F', start_date, end_date)\n",
    "\n",
    "# Extract WTI Crude Oil Data \n",
    "wti = extract_yf_data('CL=F', start_date, end_date)\n",
    "\n",
    "#Extract USD/BRL Quotation\n",
    "usd = extract_yf_data('USDBRL=X', start_date, end_date)"
   ]
  },
  {
   "cell_type": "code",
   "execution_count": null,
   "metadata": {},
   "outputs": [],
   "source": [
    "# Extract Data from IPEA\n",
    "\n",
    "def extract_ipea_data(cod: str, start_date) -> pd.DataFrame:\n",
    "    df = ip.timeseries(cod, yearGreaterThan=start_date.year-1)\n",
    "    return df"
   ]
  },
  {
   "cell_type": "code",
   "execution_count": null,
   "metadata": {},
   "outputs": [],
   "source": [
    "# Extract Month Oil Production - Mean Quantity Barril x 1000 / Month\n",
    "\n",
    "production = extract_ipea_data('ANP12_PDPET12', start_date)"
   ]
  },
  {
   "cell_type": "code",
   "execution_count": 3,
   "metadata": {},
   "outputs": [],
   "source": [
    "# ECOPETROL Target location:  bronze/raw/yfinance/ecopetrol/ecopetrol.csv\n",
    "# BP p.l.c. Target location: bronze/raw/yfinance/bp/bp.csv\n",
    "# EQUINOR Target location: bronze/raw/yfinance/equinor/equinor.csv\n",
    "# YPF Target location: bronze/raw/yfinance/ypf/ypf.csv"
   ]
  },
  {
   "cell_type": "code",
   "execution_count": null,
   "metadata": {},
   "outputs": [],
   "source": [
    "# Extract Stock Data from similar sector companies\n",
    "\n",
    "#Extract Ecopetrol (Colombia) data\n",
    "ecopetrol = extract_yf_data('EC', start_date, end_date)\n",
    "\n",
    "#Extract BP  p.l.c. (England) data\n",
    "bp = extract_yf_data('BP', start_date, end_date)\n",
    "\n",
    "#Extract Equinor (Norway) data\n",
    "equinor = extract_yf_data('EQNR', start_date, end_date)\n",
    "\n",
    "#Extract YPF (Argentina) data\n",
    "ypf = extract_yf_data('YPF', start_date, end_date)"
   ]
  }
 ],
 "metadata": {
  "kernelspec": {
   "display_name": ".venv",
   "language": "python",
   "name": "python3"
  },
  "language_info": {
   "codemirror_mode": {
    "name": "ipython",
    "version": 3
   },
   "file_extension": ".py",
   "mimetype": "text/x-python",
   "name": "python",
   "nbconvert_exporter": "python",
   "pygments_lexer": "ipython3",
   "version": "3.11.9"
  }
 },
 "nbformat": 4,
 "nbformat_minor": 2
}
