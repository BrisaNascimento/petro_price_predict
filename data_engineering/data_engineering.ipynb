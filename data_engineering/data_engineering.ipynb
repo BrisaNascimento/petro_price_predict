{
 "cells": [
  {
   "cell_type": "markdown",
   "metadata": {},
   "source": [
    "### Data Engineering - Cleaned and Enriched Data"
   ]
  },
  {
   "cell_type": "markdown",
   "metadata": {},
   "source": [
    "Ingestion type: Full Load\n",
    "\n",
    "Schedule Run: Daily on Briefer Cloud\n",
    "\n",
    "Source: Yahoo Finance, IPEA\n",
    "\n",
    "Target location: silver/petro/petro.csv"
   ]
  },
  {
   "cell_type": "code",
   "execution_count": 1,
   "metadata": {},
   "outputs": [],
   "source": [
    "import pandas as pd\n",
    "import yfinance as yf\n",
    "import ipeadatapy as ip\n",
    "import os\n",
    "from datetime import datetime\n",
    "from io import StringIO"
   ]
  },
  {
   "cell_type": "code",
   "execution_count": 2,
   "metadata": {},
   "outputs": [],
   "source": [
    "# Defining start and end date for data extraction\n",
    "\n",
    "start_date = datetime.strptime('2008-01-01', '%Y-%m-%d')\n",
    "end_date = datetime.today()"
   ]
  },
  {
   "cell_type": "markdown",
   "metadata": {},
   "source": [
    "Extract Data from Yahoo Finance"
   ]
  },
  {
   "cell_type": "code",
   "execution_count": null,
   "metadata": {},
   "outputs": [],
   "source": [
    "# Extract Data from Yahoo Finance\n",
    "\n",
    "def extract_yf_data(ticker: str, start_date, end_date) -> pd.DataFrame:\n",
    "    df = yf.download(ticker, start=start_date, end=end_date)\n",
    "    return df\n",
    "\n",
    "# Extract Petrobras Data\n",
    "pbr = extract_yf_data('PBR', start_date, end_date)[['Close', 'Adj Close']]\n",
    "pbr = pbr.rename(columns={'Close': 'pbr', 'Adj Close': 'adj_pbr'})\n",
    "\n",
    "# Extract Brent Crude Oil Data \n",
    "brent = extract_yf_data('BZ=F', start_date, end_date)[['Close']]\n",
    "brent = brent.rename(columns={'Close': 'brent'})\n",
    "\n",
    "# Extract WTI Crude Oil Data \n",
    "wti = extract_yf_data('CL=F', start_date, end_date)[['Close']]\n",
    "wti = wti.rename(columns={'Close': 'wti'})\n",
    "\n",
    "#Extract USD/BRL Quotation\n",
    "usd = extract_yf_data('USDBRL=X', start_date, end_date)[['Close']]\n",
    "usd = usd.rename(columns={'Close': 'usd'})"
   ]
  },
  {
   "cell_type": "markdown",
   "metadata": {},
   "source": [
    "Extract Data from IPEA"
   ]
  },
  {
   "cell_type": "code",
   "execution_count": 4,
   "metadata": {},
   "outputs": [],
   "source": [
    "# Extract Data from IPEA\n",
    "\n",
    "def extract_ipea_data(cod: str, start_date) -> pd.DataFrame:\n",
    "    df = ip.timeseries(cod, yearGreaterThan=start_date.year-1)\n",
    "    return df\n",
    "\n",
    "# Extract Month Oil Production - Mean Quantity Barril x 1000 / Month\n",
    "\n",
    "production = extract_ipea_data('ANP12_PDPET12', start_date)[['VALUE (Barril)']]\n",
    "production = production.rename(columns={'VALUE (Barril)': 'production'})"
   ]
  },
  {
   "cell_type": "markdown",
   "metadata": {},
   "source": [
    "Clean and fill null values"
   ]
  },
  {
   "cell_type": "code",
   "execution_count": 5,
   "metadata": {},
   "outputs": [],
   "source": [
    "# Adjusting NaN values in Production data "
   ]
  },
  {
   "cell_type": "code",
   "execution_count": 6,
   "metadata": {},
   "outputs": [],
   "source": [
    "# Reindex data\n",
    "\n",
    "def reindex_df_to_now(df: pd.DataFrame, start_date_str: str, fill_na_values: bool) -> pd.DataFrame:\n",
    "    start_date = datetime.strptime(start_date_str, '%Y-%m-%d')\n",
    "    new_index = pd.date_range(start=start_date, end=datetime.now().date(), freq='D')\n",
    "\n",
    "    df_reindexed = df.reindex(new_index)\n",
    "    \n",
    "    if fill_na_values:\n",
    "        df_reindexed = df_reindexed.fillna(0)\n",
    "\n",
    "    return df_reindexed\n",
    "\n",
    "production = reindex_df_to_now(production, '2008-01-01', fill_na_values=True)"
   ]
  },
  {
   "cell_type": "code",
   "execution_count": 7,
   "metadata": {},
   "outputs": [],
   "source": [
    "# Distribute month values to daily frequency\n",
    "\n",
    "def month_to_daily_distribution(df: pd.DataFrame, col_name:str) -> pd.DataFrame:\n",
    "    def apply_rolling(month_df):\n",
    "        diary_quantity = month_df[col_name].iloc[0] / len(month_df)\n",
    "        month_df[col_name] = diary_quantity\n",
    "        return month_df\n",
    "\n",
    "    df = df.groupby([df.index.year, df.index.month]).apply(apply_rolling)\n",
    "    df.index = df.index.droplevel([0, 1])\n",
    "\n",
    "    return df\n",
    "\n",
    "production = month_to_daily_distribution(production, 'production')"
   ]
  },
  {
   "cell_type": "code",
   "execution_count": 8,
   "metadata": {},
   "outputs": [],
   "source": [
    "# Fill NaN Data with three last month values average\n",
    "\n",
    "def fill_last_tmonth(df: pd.DataFrame, col_name:str):\n",
    "    \n",
    "    dif_na = df[df[col_name] != 0]\n",
    "    last_tmonth = dif_na.index.max() - pd.DateOffset(months=3)\n",
    "    df_filtered = dif_na[dif_na.index >= last_tmonth]\n",
    "    df_mean = float(df_filtered[col_name].mean())\n",
    "    df[col_name] = df[col_name].replace(float(0), df_mean)\n",
    "\n",
    "    return df\n",
    "\n",
    "production = fill_last_tmonth(production, 'production')"
   ]
  },
  {
   "cell_type": "code",
   "execution_count": 9,
   "metadata": {},
   "outputs": [],
   "source": [
    "# Fill NaN values in Brent Crude Oil Data "
   ]
  },
  {
   "cell_type": "code",
   "execution_count": 10,
   "metadata": {},
   "outputs": [],
   "source": [
    "# Reindex brent data keeping NaN values\n",
    "\n",
    "brent = reindex_df_to_now(brent, '2008-01-01', fill_na_values=False)"
   ]
  },
  {
   "cell_type": "code",
   "execution_count": 11,
   "metadata": {},
   "outputs": [],
   "source": [
    "# Fill Nan Data with a monthly average of existing data\n",
    "\n",
    "def fillna_mean_month(df: pd.DataFrame, col_name:str) -> pd.DataFrame:\n",
    "    df[col_name] = df.groupby([df.index.year, df.index.month])[col_name]\\\n",
    "                     .transform(lambda x: x.fillna(x.mean()))\n",
    "    return df\n",
    "\n",
    "brent = fillna_mean_month(brent, 'brent')"
   ]
  },
  {
   "cell_type": "code",
   "execution_count": 12,
   "metadata": {},
   "outputs": [],
   "source": [
    "#Fill NaN values in USD Data"
   ]
  },
  {
   "cell_type": "code",
   "execution_count": 13,
   "metadata": {},
   "outputs": [],
   "source": [
    "# Reindex usd data keeping NaN values\n",
    "\n",
    "usd = reindex_df_to_now(usd, '2008-01-01', fill_na_values=False)"
   ]
  },
  {
   "cell_type": "code",
   "execution_count": 14,
   "metadata": {},
   "outputs": [],
   "source": [
    "# Fill Nan Data with a monthly average of existing data\n",
    "\n",
    "usd = fillna_mean_month(usd, 'usd')"
   ]
  },
  {
   "cell_type": "markdown",
   "metadata": {},
   "source": [
    "Petro: Join all databases"
   ]
  },
  {
   "cell_type": "code",
   "execution_count": 15,
   "metadata": {},
   "outputs": [],
   "source": [
    "# Join bases using outer to maintain all date indexes\n",
    "\n",
    "petro = pbr.join([brent, wti, production, usd], how='outer')"
   ]
  },
  {
   "cell_type": "markdown",
   "metadata": {},
   "source": [
    "Clean and fill last null values"
   ]
  },
  {
   "cell_type": "code",
   "execution_count": 16,
   "metadata": {},
   "outputs": [],
   "source": [
    "# Drop weekend data because stock data do not have information collected on weekends\n",
    "\n",
    "def drop_weekends_data(df:pd.DataFrame) -> pd.DataFrame:\n",
    "    df.loc[:, \"d_week\"] = df.index.dayofweek\n",
    "    df = df.loc[df['d_week'] <= 4].copy()\n",
    "    df.drop(columns=['d_week'], inplace=True)\n",
    "    return df\n",
    "\n",
    "petro = drop_weekends_data(petro)"
   ]
  },
  {
   "cell_type": "code",
   "execution_count": 17,
   "metadata": {},
   "outputs": [],
   "source": [
    "# fill last NaN values in data considering next valid observation and setting two as maximum number of consecutive values to fill\n",
    "\n",
    "petro = petro.bfill(limit=2) "
   ]
  }
 ],
 "metadata": {
  "kernelspec": {
   "display_name": ".venv",
   "language": "python",
   "name": "python3"
  },
  "language_info": {
   "codemirror_mode": {
    "name": "ipython",
    "version": 3
   },
   "file_extension": ".py",
   "mimetype": "text/x-python",
   "name": "python",
   "nbconvert_exporter": "python",
   "pygments_lexer": "ipython3",
   "version": "3.11.9"
  }
 },
 "nbformat": 4,
 "nbformat_minor": 2
}
