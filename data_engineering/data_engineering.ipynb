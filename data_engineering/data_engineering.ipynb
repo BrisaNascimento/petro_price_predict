{
 "cells": [
  {
   "cell_type": "markdown",
   "metadata": {},
   "source": [
    "### Data Engineering"
   ]
  },
  {
   "cell_type": "markdown",
   "metadata": {},
   "source": [
    "Ingestion type:  Full Load\n",
    "\n",
    "Schedule Run: Daily\n",
    "\n",
    "Source: Yahoo Finance\n",
    "\n",
    "Target location: raw/yfinance/petro/petro.csv"
   ]
  },
  {
   "cell_type": "code",
   "execution_count": 1,
   "metadata": {},
   "outputs": [],
   "source": [
    "import pandas as pd\n",
    "import yfinance as yf\n",
    "import os\n",
    "from datetime import datetime\n",
    "from io import StringIO"
   ]
  },
  {
   "cell_type": "code",
   "execution_count": 2,
   "metadata": {},
   "outputs": [],
   "source": [
    "# Defining start and end date for data extraction\n",
    "\n",
    "start_date = datetime.strptime('2019-12-11', '%Y-%m-%d')\n",
    "end_date = datetime.today()"
   ]
  },
  {
   "cell_type": "code",
   "execution_count": null,
   "metadata": {},
   "outputs": [],
   "source": [
    "# Extract Petro Data from Y Finance\n",
    "\n",
    "def extract_pbr_data(ticker: str, start_date: datetime, end_date: datetime) -> pd.DataFrame:\n",
    "    df = yf.download(ticker, start=start_date, end=end_date)[['Close', 'Adj Close']]\n",
    "    return df\n",
    "\n",
    "petro = extract_pbr_data('PBR', start_date, end_date)\n",
    "petro = petro.rename(columns={'Close': 'close', 'Adj Close': 'adj_close'})\n",
    "\n",
    "petro.head()"
   ]
  },
  {
   "cell_type": "code",
   "execution_count": null,
   "metadata": {},
   "outputs": [],
   "source": [
    "# Extract Brent Crude Oil Data from Y Finance\n",
    "\n",
    "def extract_brent_data(ticker: str, start_date: datetime, end_date: datetime) -> pd.DataFrame:\n",
    "    df = yf.download(ticker, start=start_date, end=end_date)[['Close']]\n",
    "    return df\n",
    "\n",
    "brent = extract_brent_data('BZ=F', start_date, end_date)\n",
    "brent = brent.rename(columns={'Close': 'close_brent'})\n",
    "\n",
    "brent.head()"
   ]
  },
  {
   "cell_type": "code",
   "execution_count": null,
   "metadata": {},
   "outputs": [],
   "source": [
    "# Extract USD/BRL Quotation from Y Finance\n",
    "\n",
    "def extract_usd_data(ticker: str, start_date: datetime, end_date: datetime) -> pd.DataFrame:\n",
    "    df = yf.download(ticker, start=start_date, end=end_date)[['Close']]\n",
    "    return df\n",
    "\n",
    "usd= extract_brent_data('USDBRL=X', start_date, end_date)\n",
    "usd = usd.rename(columns={'Close': 'close_usd'})\n",
    "\n",
    "usd.head()"
   ]
  },
  {
   "cell_type": "code",
   "execution_count": null,
   "metadata": {},
   "outputs": [],
   "source": [
    "# Join bases\n",
    "\n",
    "data = petro.merge(brent, left_index=True, right_index=True)\\\n",
    "          .merge(usd, left_index=True, right_index=True)\n",
    "\n",
    "data.head()"
   ]
  },
  {
   "cell_type": "code",
   "execution_count": null,
   "metadata": {},
   "outputs": [],
   "source": [
    "# Adding calendar/seasonal features\n",
    "\n",
    "def add_seasonal(df:pd.DataFrame) -> pd.DataFrame:\n",
    "    df[\"day\"] = df.index.day\n",
    "    df[\"d_week\"] = df.index.dayofweek\n",
    "    df[\"month\"] = df.index.month\n",
    "    df[\"quarter\"] = df.index.quarter\n",
    "    df[\"year\"] = df.index.year\n",
    "    return df\n",
    "\n",
    "data = add_seasonal(data)\n",
    "data.head()"
   ]
  },
  {
   "cell_type": "code",
   "execution_count": null,
   "metadata": {},
   "outputs": [],
   "source": [
    "# Creating lags from day 1 to day 7\n",
    "\n",
    "def add_lags(df:pd.DataFrame, start:int, end:int) -> pd.DataFrame:\n",
    "    for lag in range(start, end):\n",
    "        df[f\"lag_{lag}\"] = df['close'].shift(lag)\n",
    "    return df\n",
    "\n",
    "data = add_lags(data, 1, 8)\n",
    "data.head()"
   ]
  },
  {
   "cell_type": "code",
   "execution_count": null,
   "metadata": {},
   "outputs": [],
   "source": [
    "# Creating mean and standard rolling windows\n",
    "\n",
    "def add_rollings(df:pd.DataFrame) -> pd.DataFrame:\n",
    "    horizons = [2, 7, 14]\n",
    "    for horizon in horizons:\n",
    "        df[f\"avg_{horizon}\"] = df[\"close\"].shift(1).rolling(window=horizon).mean()\n",
    "        df[f\"std_{horizon}\"] = df[\"close\"].shift(1).rolling(window=horizon).std()\n",
    "    return df\n",
    "\n",
    "data = add_rollings(data)\n",
    "data.head()"
   ]
  },
  {
   "cell_type": "code",
   "execution_count": null,
   "metadata": {},
   "outputs": [],
   "source": [
    "# Applying diff for petro close values\n",
    "\n",
    "def add_diff(df:pd.DataFrame) -> pd.DataFrame:\n",
    "    df[\"diff\"] = df[\"close\"].shift(1).diff().dropna()\n",
    "    return df\n",
    "\n",
    "data = add_diff(data)\n",
    "data.head()"
   ]
  },
  {
   "cell_type": "code",
   "execution_count": null,
   "metadata": {},
   "outputs": [],
   "source": [
    "# Drop null values\n",
    "\n",
    "def clean_data(df:pd.DataFrame) -> pd.DataFrame:\n",
    "    df = df.dropna()\n",
    "    return df\n",
    "\n",
    "data = clean_data(data)\n",
    "data.head()"
   ]
  }
 ],
 "metadata": {
  "kernelspec": {
   "display_name": ".venv",
   "language": "python",
   "name": "python3"
  },
  "language_info": {
   "codemirror_mode": {
    "name": "ipython",
    "version": 3
   },
   "file_extension": ".py",
   "mimetype": "text/x-python",
   "name": "python",
   "nbconvert_exporter": "python",
   "pygments_lexer": "ipython3",
   "version": "3.11.9"
  }
 },
 "nbformat": 4,
 "nbformat_minor": 2
}
